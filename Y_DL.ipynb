{
  "nbformat": 4,
  "nbformat_minor": 0,
  "metadata": {
    "colab": {
      "name": "Y-DL.ipynb",
      "provenance": [],
      "mount_file_id": "1fByN2fzWNiJy6sHgQLNaRDSC8o7XQ_3U",
      "authorship_tag": "ABX9TyNWwpsGIgkZEQUSxsBGJ/Zk",
      "include_colab_link": true
    },
    "kernelspec": {
      "name": "python3",
      "display_name": "Python 3"
    },
    "language_info": {
      "name": "python"
    }
  },
  "cells": [
    {
      "cell_type": "markdown",
      "metadata": {
        "id": "view-in-github",
        "colab_type": "text"
      },
      "source": [
        "<a href=\"https://colab.research.google.com/github/habatakutorifbi/view/blob/oppai/Y_DL.ipynb\" target=\"_parent\"><img src=\"https://colab.research.google.com/assets/colab-badge.svg\" alt=\"Open In Colab\"/></a>"
      ]
    },
    {
      "cell_type": "code",
      "metadata": {
        "cellView": "form",
        "id": "Vo9fsQcczld3"
      },
      "source": [
        "#@title 初期設定 GoogleDriveをマウントしてください。保存場所:ドライブ内のVideoフォルダー内\n",
        "!cp /content/dl /bin/dl\n",
        "!chmod 777 /bin/dl\n",
        "!pip install youtube-dl"
      ],
      "execution_count": null,
      "outputs": []
    },
    {
      "cell_type": "code",
      "metadata": {
        "cellView": "form",
        "id": "u187DPht0IhE"
      },
      "source": [
        "#@title 使い方は...分かるよね？\n",
        "!dl"
      ],
      "execution_count": null,
      "outputs": []
    }
  ]
}